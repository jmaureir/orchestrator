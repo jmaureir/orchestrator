{
 "cells": [
  {
   "cell_type": "code",
   "execution_count": 111,
   "metadata": {},
   "outputs": [],
   "source": [
    "import multiprocessing as mp\n",
    "import jsonpickle\n",
    "import ctypes\n",
    "\n",
    "class TimeoutError(RuntimeError):\n",
    "    pass\n",
    "\n",
    "class ProcessAsyncCall(object):\n",
    "    def __init__(self, fnc, callback = None):\n",
    "        self.Callable = fnc\n",
    "        self.Callback = callback\n",
    "        self.Result   = None\n",
    "        self.Manager  = None\n",
    "\n",
    "    def __call__(self, *args, **kwargs):\n",
    "        self.Manager = mp.Manager()\n",
    "        self.Result  = self.Manager.Value(ctypes.c_wchar,'')\n",
    "        self.proc = mp.Process(target = self.run, name = self.Callable.__name__, args = args, kwargs = kwargs)\n",
    "        self.proc.start()\n",
    "        return self\n",
    "\n",
    "    def wait(self, timeout = None):\n",
    "        self.proc.join(timeout)\n",
    "        if self.proc.is_alive():\n",
    "            raise TimeoutError()\n",
    "        else:\n",
    "            return self.Result\n",
    "\n",
    "    def get(self):\n",
    "        if self.Result == None:\n",
    "            self.wait()\n",
    "                        \n",
    "        return jsonpickle.decode(self.Result.value)\n",
    "\n",
    "    def run(self, *args, **kwargs):\n",
    "        try:\n",
    "            result = self.Callable(*args, **kwargs)\n",
    "            try: \n",
    "                packed_result = jsonpickle.encode(result)\n",
    "                self.Result.value = \"%s\" % packed_result\n",
    "            except Exception as e:\n",
    "                print(e)\n",
    "                raise e\n",
    "                \n",
    "            if self.Callback:\n",
    "                self.Callback(self.Result)\n",
    "        except Exception as e:\n",
    "            print(e, args, kwargs)\n",
    "            raise e\n",
    "\n",
    "class ThreadAsyncCall(object):\n",
    "    def __init__(self, fnc, callback = None):\n",
    "        self.Callable = fnc\n",
    "        self.Callback = callback\n",
    "        self.Result = None\n",
    "        \n",
    "    def __call__(self, *args, **kwargs):\n",
    "        self.Thread = threading.Thread(target = self.run, name = self.Callable.__name__, args = args, kwargs = kwargs)\n",
    "        self.Thread.start()\n",
    "        return self\n",
    "\n",
    "    def wait(self, timeout = None):\n",
    "        self.Thread.join(timeout)\n",
    "        \n",
    "        if self.Thread.isAlive():\n",
    "            raise TimeoutError()\n",
    "        else:\n",
    "            return self.Result\n",
    "\n",
    "    def get(self):\n",
    "        if self.Result == None:\n",
    "            self.wait()\n",
    "        return self.Result\n",
    "\n",
    "    def run(self, *args, **kwargs):\n",
    "        try:\n",
    "            self.Result = self.Callable(*args, **kwargs)\n",
    "            if self.Callback:\n",
    "                self.Callback(self.Result)\n",
    "        except Exception as e:\n",
    "            print(e, args, kwargs)\n",
    "            traceback.print_exc(file=sys.stdout)\n",
    "\n",
    "class ThreadAsyncMethod(object):\n",
    "    def __init__(self, fnc, callback=None):\n",
    "        self.Callable = fnc \n",
    "        self.Callback = callback\n",
    "\n",
    "    def __call__(self, *args, **kwargs):\n",
    "        return ThreadAsyncCall(self.Callable, self.Callback)(*args, **kwargs)\n",
    "\n",
    "class ProcessAsyncMethod(object):\n",
    "    def __init__(self, fnc, callback=None):\n",
    "        self.Callable = fnc \n",
    "        self.Callback = callback\n",
    "\n",
    "    def __call__(self, *args, **kwargs):\n",
    "        return ProcessAsyncCall(self.Callable, self.Callback)(*args, **kwargs)\n",
    "\n",
    "def ProcessAsync(fnc = None, callback = None):\n",
    "    if fnc == None:\n",
    "        def AddAsyncCallback(fnc):\n",
    "            return ProcessAsyncMethod(fnc, callback)\n",
    "        return AddAsyncCallback\n",
    "    else:\n",
    "        return ProcessAsyncMethod(fnc, callback)\n",
    "\n",
    "def Async(fnc = None, callback = None):\n",
    "    if fnc == None:\n",
    "        def AddAsyncCallback(fnc):\n",
    "            return ThreadAsyncMethod(fnc, callback)\n",
    "        return AddAsyncCallback\n",
    "    else:\n",
    "        return ThreadAsyncMethod(fnc, callback)\n"
   ]
  },
  {
   "cell_type": "code",
   "execution_count": 121,
   "metadata": {},
   "outputs": [
    {
     "name": "stdout",
     "output_type": "stream",
     "text": [
      "myAsynCall working\n"
     ]
    }
   ],
   "source": [
    "@ProcessAsync\n",
    "def myAsyncCall(arg1, arg2):\n",
    "    import time\n",
    "    print(\"myAsynCall working\")\n",
    "    \n",
    "    m ={}\n",
    "    m[arg1] = arg2\n",
    "    \n",
    "    return m\n",
    "\n",
    "a = myAsyncCall(10,20)"
   ]
  },
  {
   "cell_type": "code",
   "execution_count": 122,
   "metadata": {},
   "outputs": [
    {
     "data": {
      "text/plain": [
       "<ValueProxy object, typeid 'Value' at 0x2afcb6cca7b8>"
      ]
     },
     "execution_count": 122,
     "metadata": {},
     "output_type": "execute_result"
    }
   ],
   "source": [
    "a.wait()"
   ]
  },
  {
   "cell_type": "code",
   "execution_count": 123,
   "metadata": {},
   "outputs": [
    {
     "name": "stdout",
     "output_type": "stream",
     "text": [
      "{'10': 20}\n"
     ]
    }
   ],
   "source": [
    "print(a.get())"
   ]
  },
  {
   "cell_type": "code",
   "execution_count": null,
   "metadata": {},
   "outputs": [],
   "source": []
  }
 ],
 "metadata": {
  "hide_input": false,
  "kernelspec": {
   "display_name": "Python 3",
   "language": "python",
   "name": "python3"
  },
  "language_info": {
   "codemirror_mode": {
    "name": "ipython",
    "version": 3
   },
   "file_extension": ".py",
   "mimetype": "text/x-python",
   "name": "python",
   "nbconvert_exporter": "python",
   "pygments_lexer": "ipython3",
   "version": "3.7.3"
  }
 },
 "nbformat": 4,
 "nbformat_minor": 2
}
