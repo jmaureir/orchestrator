{
 "cells": [
  {
   "cell_type": "markdown",
   "metadata": {},
   "source": [
    "# Orchestrator Jupyter Simple Test"
   ]
  },
  {
   "cell_type": "code",
   "execution_count": 1,
   "metadata": {
    "ExecuteTime": {
     "end_time": "2021-04-03T03:03:03.140264Z",
     "start_time": "2021-04-03T03:03:03.133007Z"
    }
   },
   "outputs": [],
   "source": [
    "# import the orch library in the local notebook env\n",
    "\n",
    "import sys\n",
    "import os\n",
    "sys.path.insert(0, os.path.abspath('../../lib/python'))"
   ]
  },
  {
   "cell_type": "code",
   "execution_count": 2,
   "metadata": {
    "ExecuteTime": {
     "end_time": "2021-04-03T03:03:03.436049Z",
     "start_time": "2021-04-03T03:03:03.311672Z"
    }
   },
   "outputs": [],
   "source": [
    "import orch\n",
    "import itertools \n",
    "import time\n",
    "\n",
    "from promise import Promise"
   ]
  },
  {
   "cell_type": "markdown",
   "metadata": {
    "ExecuteTime": {
     "end_time": "2021-04-03T02:00:23.369448Z",
     "start_time": "2021-04-03T02:00:23.366629Z"
    }
   },
   "source": [
    "# Asyncronous Tasks"
   ]
  },
  {
   "cell_type": "markdown",
   "metadata": {
    "ExecuteTime": {
     "end_time": "2021-04-03T02:01:12.074293Z",
     "start_time": "2021-04-03T02:01:12.071955Z"
    },
    "heading_collapsed": true
   },
   "source": [
    "## functions"
   ]
  },
  {
   "cell_type": "code",
   "execution_count": null,
   "metadata": {
    "ExecuteTime": {
     "end_time": "2021-04-03T02:00:28.957139Z",
     "start_time": "2021-04-03T02:00:28.951471Z"
    },
    "hidden": true
   },
   "outputs": [],
   "source": [
    "\n",
    "@orch.Async\n",
    "def task_1(arg):\n",
    "    from random import randint\n",
    "    import time\n",
    "    \n",
    "    sleep = randint(1,10)\n",
    "    sleep = arg\n",
    "    print(\"task 1 with arg: %s sleep %d\" % (arg, sleep))\n",
    "    time.sleep(sleep)\n",
    "    print(\"task 1 with arg: %s done sleep %d\" % (arg, sleep))\n",
    "\n",
    "    return \"task_1(%s)\" % arg \n",
    "\n",
    "@orch.Async\n",
    "def task_2(pair):\n",
    "    import sys \n",
    "\n",
    "    print(\"task_2 with args:\", pair)\n",
    "\n",
    "    return \"%s+%s\" % (pair[0],pair[1])\n",
    "\n",
    "@orch.Async\n",
    "def joiner(lst,n):\n",
    "    print(\"joiner waiting for \",lst)\n",
    "    resolved_lst = [ x.get() for x in lst ]\n",
    "    print(\"joiner \",resolved_lst)\n",
    "    l = list(zip(*[itertools.islice(resolved_lst, i, None, n) for i in range(n)]))\n",
    "    r = [ (a,b) for a,b in l]\n",
    "    print(\"joined: \", r)\n",
    "    return r"
   ]
  },
  {
   "cell_type": "markdown",
   "metadata": {
    "ExecuteTime": {
     "end_time": "2021-04-03T02:01:03.177348Z",
     "start_time": "2021-04-03T02:01:03.174989Z"
    },
    "heading_collapsed": true
   },
   "source": [
    "## Local workflow with async calls only"
   ]
  },
  {
   "cell_type": "code",
   "execution_count": null,
   "metadata": {
    "ExecuteTime": {
     "end_time": "2021-04-03T01:53:49.174614Z",
     "start_time": "2021-04-03T01:53:37.139376Z"
    },
    "code_folding": [],
    "hidden": true,
    "scrolled": false
   },
   "outputs": [],
   "source": [
    "do_local = True\n",
    "\n",
    "args=[1,2,3,4,5,6,7,8,9,10,11,12]\n",
    "\n",
    "if do_local:\n",
    "    # wrapping the function in an asyncronous call\n",
    "    @orch.Async\n",
    "    def process_arg(arg):\n",
    "        p = task_1(arg)\n",
    "        return p\n",
    "\n",
    "    res = []\n",
    "    for arg in args:\n",
    "        # run each task_1 as a promise \n",
    "        p = Promise.resolve(process_arg(arg))\n",
    "        res.append(p)\n",
    "\n",
    "    # get all the promise responses and *then*, the join each output in tuples and *then*, call task_2\n",
    "    p = Promise.all(res).then(lambda x: joiner(x,2) ).then(lambda x : [task_2(p) for p in x.get()]).get()\n",
    "\n",
    "    print(\"final promise: \",p)\n",
    "    \n",
    "    result = [ x.get() for x in p ]\n",
    "    \n",
    "    print(result)\n",
    "\n",
    "    print(\"Local Tasks example done\")"
   ]
  },
  {
   "cell_type": "markdown",
   "metadata": {
    "ExecuteTime": {
     "end_time": "2021-04-03T02:01:47.651818Z",
     "start_time": "2021-04-03T02:01:47.649529Z"
    },
    "heading_collapsed": true
   },
   "source": [
    "## Remote Tasks wrapped manually in Jobs example with barrier on the first task"
   ]
  },
  {
   "cell_type": "code",
   "execution_count": null,
   "metadata": {
    "ExecuteTime": {
     "end_time": "2021-04-03T01:55:01.971678Z",
     "start_time": "2021-04-03T01:54:49.715159Z"
    },
    "hidden": true,
    "scrolled": false
   },
   "outputs": [],
   "source": [
    "args=[1,2,3,4,5,6,7,8,9,10,11,12]\n",
    "\n",
    "def job_1(arg):\n",
    "    job=orch.Job(params={\\\n",
    "        \"ntasks\":\"1\",\n",
    "        \"nodes\":\"1\",\n",
    "        \"job-name\":\"task_1\",\n",
    "        \"cpus-per-task\":\"1\"\n",
    "    })\n",
    "    job.setVerbose(True)\n",
    "    ret = job.run(task_1, arg)\n",
    "    return(ret)\n",
    "\n",
    "@orch.Async\n",
    "def job_2(arg):\n",
    "    job=orch.Job(params={\\\n",
    "        \"ntasks\":\"1\",\n",
    "        \"nodes\":\"1\",\n",
    "        \"job-name\":\"task_2\",\n",
    "        \"cpus-per-task\":\"1\",\n",
    "    })\n",
    "    job.setVerbose(True)\n",
    "    ret = job.run(task_2, arg)\n",
    "    return(ret)\n",
    "\n",
    "args=[1,2,3,4,5,6,7,8,9,10,11,12]\n",
    "\n",
    "do_example_2 = True\n",
    "\n",
    "if do_example_2:\n",
    "    res = []\n",
    "    \n",
    "    for arg in args:\n",
    "        res.append(Promise.resolve(job_1(arg)))\n",
    "\n",
    "    results = Promise.all(res).then(lambda x: joiner(x,2) ).then(lambda x : [job_2(p) for p in x.get() ]).get()\n"
   ]
  },
  {
   "cell_type": "code",
   "execution_count": null,
   "metadata": {
    "ExecuteTime": {
     "end_time": "2021-04-03T01:55:21.242072Z",
     "start_time": "2021-04-03T01:55:21.237319Z"
    },
    "hidden": true
   },
   "outputs": [],
   "source": [
    "print(result)"
   ]
  },
  {
   "cell_type": "code",
   "execution_count": null,
   "metadata": {
    "ExecuteTime": {
     "end_time": "2021-04-03T01:55:22.542461Z",
     "start_time": "2021-04-03T01:55:22.532442Z"
    },
    "hidden": true
   },
   "outputs": [],
   "source": [
    "if do_example_2:\n",
    "    print(\"results: \",results)\n",
    "    \n",
    "    resolved_result = [x.get() for x in results]\n",
    "    print(\"resolved result: \",resolved_result)\n",
    "    \n",
    "    print(\"example 2 done\")"
   ]
  },
  {
   "cell_type": "markdown",
   "metadata": {
    "ExecuteTime": {
     "end_time": "2021-04-03T02:02:11.995516Z",
     "start_time": "2021-04-03T02:02:11.993253Z"
    },
    "heading_collapsed": true
   },
   "source": [
    "## Remote tasks with parallel workflows"
   ]
  },
  {
   "cell_type": "code",
   "execution_count": null,
   "metadata": {
    "ExecuteTime": {
     "end_time": "2021-04-03T01:55:28.576096Z",
     "start_time": "2021-04-03T01:55:27.256667Z"
    },
    "hidden": true,
    "scrolled": false
   },
   "outputs": [],
   "source": [
    "\n",
    "args=[[1,2,3,4],[5,6,7,8],[9,10,11,12]]\n",
    "\n",
    "def job_t1(arg):\n",
    "    job=orch.Job(params={\\\n",
    "        \"ntasks\":\"1\",\n",
    "        \"nodes\":\"1\",\n",
    "        \"job-name\":\"task_1\",\n",
    "        \"cpus-per-task\":\"1\"\n",
    "    })\n",
    "    print(\"job_t1 starting for \",arg)\n",
    "    job.setVerbose(True)\n",
    "    ret = job.run(task_1, arg)\n",
    "    return(ret)\n",
    "\n",
    "@orch.Async\n",
    "def joiner(lst,n):\n",
    "    print(\"joiner waiting for \",lst)\n",
    "    resolved_lst = [ x.get() for x in lst ]\n",
    "    print(\"joiner \",resolved_lst)\n",
    "    l = list(zip(*[itertools.islice(resolved_lst, i, None, n) for i in range(n)]))\n",
    "    return [ (a,b) for a,b in l ]\n",
    "\n",
    "@orch.Async\n",
    "def job_t2(arg):\n",
    "    arg = arg.get()\n",
    "    print(\"job_t2: \", arg)\n",
    "    job=orch.Job(params={\\\n",
    "        \"ntasks\":\"1\",\n",
    "        \"nodes\":\"1\",\n",
    "        \"job-name\":\"task_2\",\n",
    "        \"cpus-per-task\":\"1\"\n",
    "    })\n",
    "    print(\"job_t2 starting for \",arg)\n",
    "    job.setVerbose(True)\n",
    "    ret = job.run(task_2, arg)\n",
    "    return(ret)\n",
    "\n",
    "do_example_3 = True\n",
    "if do_example_3:\n",
    "    def process_list(partial_list):\n",
    "        stage_1 = []\n",
    "        for data in partial_list:\n",
    "            stage_1.append(Promise.resolve(job_t1(data)))  \n",
    "        return Promise.all(stage_1).then(lambda x: joiner(x,2)).then(lambda x: job_t2(x)).get()\n",
    "\n",
    "    # start processing the partial lists in args\n",
    "    results = [ process_list(x) for x in args ]"
   ]
  },
  {
   "cell_type": "code",
   "execution_count": null,
   "metadata": {
    "ExecuteTime": {
     "end_time": "2021-04-03T01:55:51.102008Z",
     "start_time": "2021-04-03T01:55:51.093036Z"
    },
    "hidden": true,
    "scrolled": false
   },
   "outputs": [],
   "source": [
    "if do_example_3:\n",
    "    print(\"result: \",results)\n",
    "\n",
    "    resolved_result = [x.get() for x in results]\n",
    "    print(\"resolved result: \",resolved_result)\n",
    "    print(\"Done\")"
   ]
  },
  {
   "cell_type": "markdown",
   "metadata": {
    "ExecuteTime": {
     "end_time": "2021-04-03T02:03:03.989051Z",
     "start_time": "2021-04-03T02:03:03.986812Z"
    }
   },
   "source": [
    "# Functions as Jobs"
   ]
  },
  {
   "cell_type": "markdown",
   "metadata": {
    "ExecuteTime": {
     "end_time": "2021-04-03T02:37:02.000061Z",
     "start_time": "2021-04-03T02:37:01.997061Z"
    }
   },
   "source": [
    "## two serial jobs called programatically"
   ]
  },
  {
   "cell_type": "code",
   "execution_count": 3,
   "metadata": {
    "ExecuteTime": {
     "end_time": "2021-04-03T03:03:07.134102Z",
     "start_time": "2021-04-03T03:03:07.052624Z"
    }
   },
   "outputs": [
    {
     "name": "stdout",
     "output_type": "stream",
     "text": [
      "Job 1: a b\n",
      "<orch._async.ProcessAsyncCall object at 0x7f3d32331cd0>\n",
      "Job 2: a b\n",
      "a a\n"
     ]
    }
   ],
   "source": [
    "@orch.asJob(cores=1)\n",
    "def job_1(arg1, arg2):\n",
    "    print(\"Job 1:\",arg1,arg2)\n",
    "    return (arg1,arg2)\n",
    "    \n",
    "@orch.asJob(cores=1)\n",
    "def job_2(arg1, arg2):\n",
    "    print(\"Job 2:\",arg1,arg2)\n",
    "    return (arg1,arg2)\n",
    "\n",
    "response_j1 = job_1(\"a\",\"b\")\n",
    "\n",
    "# the return type is a future object wrapped as a ProcessAsyncCall\n",
    "print(response_j1)\n",
    "\n",
    "# get is a blocking function to get the results from job_1\n",
    "r1,r2 = response_j1.get()\n",
    "\n",
    "# after job_1 resolved, calling job_2 as a blocking call\n",
    "r3,r4 = job_2(r1,r2).get()\n",
    "\n",
    "print(r3,r3)"
   ]
  },
  {
   "cell_type": "markdown",
   "metadata": {
    "ExecuteTime": {
     "end_time": "2021-04-03T02:40:55.584695Z",
     "start_time": "2021-04-03T02:40:55.581694Z"
    }
   },
   "source": [
    "## two serial jobs called via then"
   ]
  },
  {
   "cell_type": "code",
   "execution_count": 4,
   "metadata": {
    "ExecuteTime": {
     "end_time": "2021-04-03T03:03:09.175352Z",
     "start_time": "2021-04-03T03:03:09.116522Z"
    }
   },
   "outputs": [
    {
     "name": "stdout",
     "output_type": "stream",
     "text": [
      "Job 1: a b\n",
      "Job 2: a b\n",
      "a b\n"
     ]
    }
   ],
   "source": [
    "@orch.asJob(cores=1)\n",
    "def job_1(arg1, arg2):\n",
    "    print(\"Job 1:\",arg1,arg2)\n",
    "    return (arg1,arg2)\n",
    "    \n",
    "@orch.asJob(cores=1)\n",
    "def job_2(a1,a2):\n",
    "    \n",
    "    print(\"Job 2:\",a1,a2)\n",
    "    return (a1,a2)\n",
    "\n",
    "a,b = job_1(\"a\",\"b\").then(job_2).get()\n",
    "print(a,b)"
   ]
  },
  {
   "cell_type": "code",
   "execution_count": null,
   "metadata": {},
   "outputs": [],
   "source": []
  }
 ],
 "metadata": {
  "hide_input": false,
  "kernelspec": {
   "display_name": "Python 3",
   "language": "python",
   "name": "python3"
  },
  "language_info": {
   "codemirror_mode": {
    "name": "ipython",
    "version": 3
   },
   "file_extension": ".py",
   "mimetype": "text/x-python",
   "name": "python",
   "nbconvert_exporter": "python",
   "pygments_lexer": "ipython3",
   "version": "3.9.0"
  },
  "varInspector": {
   "cols": {
    "lenName": 16,
    "lenType": 16,
    "lenVar": 40
   },
   "kernels_config": {
    "python": {
     "delete_cmd_postfix": "",
     "delete_cmd_prefix": "del ",
     "library": "var_list.py",
     "varRefreshCmd": "print(var_dic_list())"
    },
    "r": {
     "delete_cmd_postfix": ") ",
     "delete_cmd_prefix": "rm(",
     "library": "var_list.r",
     "varRefreshCmd": "cat(var_dic_list()) "
    }
   },
   "types_to_exclude": [
    "module",
    "function",
    "builtin_function_or_method",
    "instance",
    "_Feature"
   ],
   "window_display": false
  }
 },
 "nbformat": 4,
 "nbformat_minor": 2
}
